{
 "cells": [
  {
   "cell_type": "code",
   "execution_count": 46,
   "metadata": {},
   "outputs": [],
   "source": [
    "from selenium import webdriver\n",
    "from time import sleep\n",
    "\n",
    "# Set the path to the Safari driver executable (change this path based on your installation)\n",
    "safari_driver_path = '/usr/bin/safaridriver'\n",
    "\n",
    "# Create a new Safari driver instance\n",
    "# driver = webdriver.Safari(executable_path=safari_driver_path)\n",
    "driver = webdriver.Chrome()\n",
    "\n",
    "# Navigate to a website\n",
    "driver.get('https://app.rocketmoney.com/')\n",
    "\n",
    "\n",
    "sleep(1)\n",
    "# Capture a screenshot (optional)\n",
    "\n",
    "\n",
    "# Close the browser window\n",
    "# driver.quit()\n"
   ]
  },
  {
   "cell_type": "code",
   "execution_count": 13,
   "metadata": {},
   "outputs": [],
   "source": [
    "# Perform some actions (e.g., clicking a button)\n",
    "# button_element = driver.find_element('xpath', '//*[@id=\"__next\"]/main/div/div/div[1]/div/div[2]/div/div/div/p')\n",
    "# button_element.click()\n",
    "\n",
    "\n",
    "\n",
    "account_element = driver.find_element('xpath', '//*[@id=\"__next\"]/main/div/div/div[1]/div/div[1]/header/div/div/div[2]/div/div[3]/div/button/text()')\n",
    "print(account_element)\n",
    "print(type(account_element))\n",
    "driver.save_screenshot('screenshot.png')\n",
    "# driver.quit()"
   ]
  },
  {
   "cell_type": "code",
   "execution_count": 50,
   "metadata": {},
   "outputs": [
    {
     "name": "stdout",
     "output_type": "stream",
     "text": [
      "https://app.rocketmoney.com/transactions?account=YWNjb3VudDozNzUxNzY2NDY%3D\n"
     ]
    }
   ],
   "source": [
    "import base64\n",
    "import urllib.parse\n",
    "\n",
    "account = '375176646'\n",
    "url = \"https://app.rocketmoney.com/transactions?account=\"\n",
    "param = \"Account:\" + account\n",
    "bby = bytes(param, 'utf-8')\n",
    "encoded = base64.b64encode(bby)\n",
    "print(url + urllib.parse.quote(encoded.decode()))\n"
   ]
  },
  {
   "cell_type": "code",
   "execution_count": 39,
   "metadata": {},
   "outputs": [
    {
     "name": "stdout",
     "output_type": "stream",
     "text": [
      "Account:358659013\n",
      "Account:375176647\n"
     ]
    }
   ],
   "source": [
    "encoded_1 = \"QWNjb3VudDozNTg2NTkwMTM=\"\n",
    "encoded_2 = \"QWNjb3VudDozNzUxNzY2NDc=\"\n",
    "print(base64.b64decode(bytes(encoded_1, 'utf-8')).decode())\n",
    "print(base64.b64decode(bytes(encoded_2, 'utf-8')).decode())\n"
   ]
  },
  {
   "cell_type": "code",
   "execution_count": 55,
   "metadata": {},
   "outputs": [
    {
     "name": "stdout",
     "output_type": "stream",
     "text": [
      "https://app.rocketmoney.com/transactions?account=QWNjb3VudDozNzg3MzkwNjQ%3D\n",
      "https://app.rocketmoney.com/transactions?account=QWNjb3VudDozNzg3MzkwNjU%3D\n",
      "https://app.rocketmoney.com/transactions?account=QWNjb3VudDozNzg3MzkwNjY%3D\n",
      "https://app.rocketmoney.com/transactions?account=QWNjb3VudDozNzg3MzkwNjc%3D\n",
      "https://app.rocketmoney.com/transactions?account=QWNjb3VudDozNzg3MzkwNjg%3D\n",
      "https://app.rocketmoney.com/transactions?account=QWNjb3VudDozNzg3MzkwNjk%3D\n",
      "https://app.rocketmoney.com/transactions?account=QWNjb3VudDozNzg3MzkwNzA%3D\n",
      "https://app.rocketmoney.com/transactions?account=QWNjb3VudDozNzg3MzkwNzE%3D\n",
      "https://app.rocketmoney.com/transactions?account=QWNjb3VudDozNzg3MzkwNzI%3D\n",
      "https://app.rocketmoney.com/transactions?account=QWNjb3VudDozNzg3MzkwNzM%3D\n"
     ]
    }
   ],
   "source": [
    "url = \"https://app.rocketmoney.com/transactions?account=\"\n",
    "\n",
    "account = 378739069\n",
    "\n",
    "\n",
    "for i in range(account-5, account+5):\n",
    "    account = str(i)\n",
    "    param = \"Account:\" + account\n",
    "    bby = bytes(param, 'utf-8')\n",
    "    encoded = base64.b64encode(bby)\n",
    "    link = url + urllib.parse.quote(encoded.decode())\n",
    "    print(link)"
   ]
  },
  {
   "cell_type": "code",
   "execution_count": null,
   "metadata": {},
   "outputs": [],
   "source": [
    "4687-2693=1994"
   ]
  }
 ],
 "metadata": {
  "kernelspec": {
   "display_name": "base",
   "language": "python",
   "name": "python3"
  },
  "language_info": {
   "codemirror_mode": {
    "name": "ipython",
    "version": 3
   },
   "file_extension": ".py",
   "mimetype": "text/x-python",
   "name": "python",
   "nbconvert_exporter": "python",
   "pygments_lexer": "ipython3",
   "version": "3.10.13"
  }
 },
 "nbformat": 4,
 "nbformat_minor": 2
}
